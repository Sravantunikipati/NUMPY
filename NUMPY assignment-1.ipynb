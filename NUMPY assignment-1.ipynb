{
 "cells": [
  {
   "cell_type": "markdown",
   "id": "16467bf5",
   "metadata": {},
   "source": [
    "1.Write a program to create a 5 dimensional array with all zeros and ones"
   ]
  },
  {
   "cell_type": "code",
   "execution_count": 3,
   "id": "d10bc448",
   "metadata": {},
   "outputs": [],
   "source": [
    "import numpy as np"
   ]
  },
  {
   "cell_type": "code",
   "execution_count": 19,
   "id": "e84eaafe",
   "metadata": {},
   "outputs": [],
   "source": [
    "x = np.zeros((4,4),dtype=int)"
   ]
  },
  {
   "cell_type": "code",
   "execution_count": 22,
   "id": "5cd0a2ef",
   "metadata": {},
   "outputs": [],
   "source": [
    "x1 = np.array(x,ndmin=5)"
   ]
  },
  {
   "cell_type": "code",
   "execution_count": 23,
   "id": "a2d4e97b",
   "metadata": {},
   "outputs": [
    {
     "data": {
      "text/plain": [
       "array([[[[[0, 0, 0, 0],\n",
       "          [0, 0, 0, 0],\n",
       "          [0, 0, 0, 0],\n",
       "          [0, 0, 0, 0]]]]])"
      ]
     },
     "execution_count": 23,
     "metadata": {},
     "output_type": "execute_result"
    }
   ],
   "source": [
    "x1"
   ]
  },
  {
   "cell_type": "code",
   "execution_count": 24,
   "id": "f8b679b0",
   "metadata": {},
   "outputs": [],
   "source": [
    "y = np.ones((5,5),dtype=int)"
   ]
  },
  {
   "cell_type": "code",
   "execution_count": 25,
   "id": "9ca9403c",
   "metadata": {},
   "outputs": [],
   "source": [
    "y1 = np.array(y,ndmin=5)"
   ]
  },
  {
   "cell_type": "code",
   "execution_count": 26,
   "id": "5c589c3e",
   "metadata": {},
   "outputs": [
    {
     "data": {
      "text/plain": [
       "array([[[[[1, 1, 1, 1, 1],\n",
       "          [1, 1, 1, 1, 1],\n",
       "          [1, 1, 1, 1, 1],\n",
       "          [1, 1, 1, 1, 1],\n",
       "          [1, 1, 1, 1, 1]]]]])"
      ]
     },
     "execution_count": 26,
     "metadata": {},
     "output_type": "execute_result"
    }
   ],
   "source": [
    "y1"
   ]
  },
  {
   "cell_type": "markdown",
   "id": "551c3cb1",
   "metadata": {},
   "source": [
    "2.Write a python program to create an array of 10 zeros,10 ones,10 fives in row 1,2 and 3 which create a new array of shape (3,10)"
   ]
  },
  {
   "cell_type": "code",
   "execution_count": 59,
   "id": "e8591de1",
   "metadata": {},
   "outputs": [
    {
     "name": "stdout",
     "output_type": "stream",
     "text": [
      "Resulting Array:\n",
      "[[0 0 0 0 0 0 0 0 0 0]\n",
      " [1 1 1 1 1 1 1 1 1 1]\n",
      " [5 5 5 5 5 5 5 5 5 5]]\n"
     ]
    }
   ],
   "source": [
    "zeros_array = np.zeros(10,dtype=int)\n",
    "ones_array = np.ones(10,dtype=int)\n",
    "fives_array = np.ones(10,dtype=int) * 5\n",
    "\n",
    "result_array = np.array((zeros_array, ones_array, fives_array)).reshape(3,10)\n",
    "\n",
    "print(result_array)\n"
   ]
  },
  {
   "cell_type": "code",
   "execution_count": 62,
   "id": "e4a3d790",
   "metadata": {},
   "outputs": [],
   "source": [
    "x = np.array((np.zeros(10,dtype=int),np.ones(10,dtype=int),np.ones(10,dtype=int)*5)).reshape(3,10)"
   ]
  },
  {
   "cell_type": "code",
   "execution_count": 63,
   "id": "e8261efe",
   "metadata": {},
   "outputs": [
    {
     "data": {
      "text/plain": [
       "array([[0, 0, 0, 0, 0, 0, 0, 0, 0, 0],\n",
       "       [1, 1, 1, 1, 1, 1, 1, 1, 1, 1],\n",
       "       [5, 5, 5, 5, 5, 5, 5, 5, 5, 5]])"
      ]
     },
     "execution_count": 63,
     "metadata": {},
     "output_type": "execute_result"
    }
   ],
   "source": [
    "x"
   ]
  },
  {
   "cell_type": "markdown",
   "id": "dd5a62e7",
   "metadata": {},
   "source": [
    "3.write a program to create a 3x4 matrix filled with values from 10 and 21."
   ]
  },
  {
   "cell_type": "code",
   "execution_count": 84,
   "id": "4e5b8504",
   "metadata": {},
   "outputs": [],
   "source": [
    "arr1 = np.arange(10,22).reshape(3,4)"
   ]
  },
  {
   "cell_type": "code",
   "execution_count": 85,
   "id": "15656809",
   "metadata": {},
   "outputs": [
    {
     "data": {
      "text/plain": [
       "array([[10, 11, 12, 13],\n",
       "       [14, 15, 16, 17],\n",
       "       [18, 19, 20, 21]])"
      ]
     },
     "execution_count": 85,
     "metadata": {},
     "output_type": "execute_result"
    }
   ],
   "source": [
    "arr1"
   ]
  },
  {
   "cell_type": "markdown",
   "id": "97c3aa84",
   "metadata": {},
   "source": [
    "4.Write a program to create a 10x10 zero matrix with elements on the main diagonal equal to 0,1,2,3,4,5,6,7,8,9"
   ]
  },
  {
   "cell_type": "code",
   "execution_count": 86,
   "id": "feffad1b",
   "metadata": {},
   "outputs": [],
   "source": [
    "diag_arr = np.diag([0,1,2,3,4,5,6,7,8,9])"
   ]
  },
  {
   "cell_type": "code",
   "execution_count": 87,
   "id": "6452b705",
   "metadata": {},
   "outputs": [
    {
     "data": {
      "text/plain": [
       "array([[0, 0, 0, 0, 0, 0, 0, 0, 0, 0],\n",
       "       [0, 1, 0, 0, 0, 0, 0, 0, 0, 0],\n",
       "       [0, 0, 2, 0, 0, 0, 0, 0, 0, 0],\n",
       "       [0, 0, 0, 3, 0, 0, 0, 0, 0, 0],\n",
       "       [0, 0, 0, 0, 4, 0, 0, 0, 0, 0],\n",
       "       [0, 0, 0, 0, 0, 5, 0, 0, 0, 0],\n",
       "       [0, 0, 0, 0, 0, 0, 6, 0, 0, 0],\n",
       "       [0, 0, 0, 0, 0, 0, 0, 7, 0, 0],\n",
       "       [0, 0, 0, 0, 0, 0, 0, 0, 8, 0],\n",
       "       [0, 0, 0, 0, 0, 0, 0, 0, 0, 9]])"
      ]
     },
     "execution_count": 87,
     "metadata": {},
     "output_type": "execute_result"
    }
   ],
   "source": [
    "diag_arr"
   ]
  },
  {
   "cell_type": "markdown",
   "id": "cba098aa",
   "metadata": {},
   "source": [
    "5.Write a program to create 4x4 array .Create an array from array by swapping first and last , second and third coloumns"
   ]
  },
  {
   "cell_type": "code",
   "execution_count": 4,
   "id": "097e2449",
   "metadata": {},
   "outputs": [],
   "source": [
    "x = np.arange(1,17).reshape(4,4)"
   ]
  },
  {
   "cell_type": "code",
   "execution_count": 5,
   "id": "035c6dda",
   "metadata": {},
   "outputs": [
    {
     "data": {
      "text/plain": [
       "array([[ 1,  2,  3,  4],\n",
       "       [ 5,  6,  7,  8],\n",
       "       [ 9, 10, 11, 12],\n",
       "       [13, 14, 15, 16]])"
      ]
     },
     "execution_count": 5,
     "metadata": {},
     "output_type": "execute_result"
    }
   ],
   "source": [
    "x"
   ]
  },
  {
   "cell_type": "code",
   "execution_count": 18,
   "id": "79dc9bad",
   "metadata": {},
   "outputs": [
    {
     "name": "stdout",
     "output_type": "stream",
     "text": [
      "[[ 4  3  2  1]\n",
      " [ 8  7  6  5]\n",
      " [12 11 10  9]\n",
      " [16 15 14 13]]\n"
     ]
    }
   ],
   "source": [
    "\n",
    "coloumn1 = x[:, 0].copy()\n",
    "x[:, 0] = x[:, 3]\n",
    "x[:, 3] = coloumn1\n",
    "coloumn2 = x[:,1].copy()\n",
    "x[:,1] = x[:,2]\n",
    "x[:,2] = coloumn2\n",
    "print (x)"
   ]
  },
  {
   "cell_type": "markdown",
   "id": "271a45d4",
   "metadata": {},
   "source": [
    "6.Write a program to reverse an array first element should be last and last element should be first"
   ]
  },
  {
   "cell_type": "code",
   "execution_count": 21,
   "id": "ea63144e",
   "metadata": {},
   "outputs": [],
   "source": [
    "r = np.arange(1,17)"
   ]
  },
  {
   "cell_type": "code",
   "execution_count": 22,
   "id": "6c981fe3",
   "metadata": {},
   "outputs": [
    {
     "data": {
      "text/plain": [
       "array([ 1,  2,  3,  4,  5,  6,  7,  8,  9, 10, 11, 12, 13, 14, 15, 16])"
      ]
     },
     "execution_count": 22,
     "metadata": {},
     "output_type": "execute_result"
    }
   ],
   "source": [
    "r"
   ]
  },
  {
   "cell_type": "code",
   "execution_count": 23,
   "id": "de1c03a6",
   "metadata": {},
   "outputs": [
    {
     "data": {
      "text/plain": [
       "array([16, 15, 14, 13, 12, 11, 10,  9,  8,  7,  6,  5,  4,  3,  2,  1])"
      ]
     },
     "execution_count": 23,
     "metadata": {},
     "output_type": "execute_result"
    }
   ],
   "source": [
    "r[::-1]"
   ]
  },
  {
   "cell_type": "markdown",
   "id": "ee239ec1",
   "metadata": {},
   "source": [
    "7.Write a program to access all the elements greater than 30 and less than 80 and multiples of 5 from an array of shape 10,10 .Elements range from 1 to 100\n"
   ]
  },
  {
   "cell_type": "code",
   "execution_count": 24,
   "id": "b0957985",
   "metadata": {},
   "outputs": [],
   "source": [
    "a = np.arange(1,101).reshape(10,10)"
   ]
  },
  {
   "cell_type": "code",
   "execution_count": 25,
   "id": "103f02de",
   "metadata": {
    "scrolled": true
   },
   "outputs": [
    {
     "data": {
      "text/plain": [
       "array([[  1,   2,   3,   4,   5,   6,   7,   8,   9,  10],\n",
       "       [ 11,  12,  13,  14,  15,  16,  17,  18,  19,  20],\n",
       "       [ 21,  22,  23,  24,  25,  26,  27,  28,  29,  30],\n",
       "       [ 31,  32,  33,  34,  35,  36,  37,  38,  39,  40],\n",
       "       [ 41,  42,  43,  44,  45,  46,  47,  48,  49,  50],\n",
       "       [ 51,  52,  53,  54,  55,  56,  57,  58,  59,  60],\n",
       "       [ 61,  62,  63,  64,  65,  66,  67,  68,  69,  70],\n",
       "       [ 71,  72,  73,  74,  75,  76,  77,  78,  79,  80],\n",
       "       [ 81,  82,  83,  84,  85,  86,  87,  88,  89,  90],\n",
       "       [ 91,  92,  93,  94,  95,  96,  97,  98,  99, 100]])"
      ]
     },
     "execution_count": 25,
     "metadata": {},
     "output_type": "execute_result"
    }
   ],
   "source": [
    "a"
   ]
  },
  {
   "cell_type": "code",
   "execution_count": 42,
   "id": "a7d15a60",
   "metadata": {},
   "outputs": [],
   "source": [
    "filtered_array = a[(a>30)&(a<80)&(a%5==0)]"
   ]
  },
  {
   "cell_type": "code",
   "execution_count": 44,
   "id": "b2a92e8c",
   "metadata": {},
   "outputs": [
    {
     "data": {
      "text/plain": [
       "array([35, 40, 45, 50, 55, 60, 65, 70, 75])"
      ]
     },
     "execution_count": 44,
     "metadata": {},
     "output_type": "execute_result"
    }
   ],
   "source": [
    "filtered_array\n",
    "# elements greater than 30 and less than 80 and multiples of 5"
   ]
  },
  {
   "cell_type": "markdown",
   "id": "97726357",
   "metadata": {},
   "source": [
    "8.Write a program to create a 2D array with 1 on the border and 0 inside.\n"
   ]
  },
  {
   "cell_type": "code",
   "execution_count": 51,
   "id": "7b56dde6",
   "metadata": {},
   "outputs": [],
   "source": [
    "array = np.zeros((5,5),dtype=int)"
   ]
  },
  {
   "cell_type": "code",
   "execution_count": 52,
   "id": "e2f3426d",
   "metadata": {},
   "outputs": [
    {
     "data": {
      "text/plain": [
       "array([[0, 0, 0, 0, 0],\n",
       "       [0, 0, 0, 0, 0],\n",
       "       [0, 0, 0, 0, 0],\n",
       "       [0, 0, 0, 0, 0],\n",
       "       [0, 0, 0, 0, 0]])"
      ]
     },
     "execution_count": 52,
     "metadata": {},
     "output_type": "execute_result"
    }
   ],
   "source": [
    "array"
   ]
  },
  {
   "cell_type": "code",
   "execution_count": 53,
   "id": "6ecbca75",
   "metadata": {},
   "outputs": [],
   "source": [
    "array[0,:]=1\n",
    "array[-1,:]=1\n",
    "array[:,0]=1\n",
    "array[:,-1]=1"
   ]
  },
  {
   "cell_type": "code",
   "execution_count": 54,
   "id": "8718bb1a",
   "metadata": {},
   "outputs": [
    {
     "data": {
      "text/plain": [
       "array([[1, 1, 1, 1, 1],\n",
       "       [1, 0, 0, 0, 1],\n",
       "       [1, 0, 0, 0, 1],\n",
       "       [1, 0, 0, 0, 1],\n",
       "       [1, 1, 1, 1, 1]])"
      ]
     },
     "execution_count": 54,
     "metadata": {},
     "output_type": "execute_result"
    }
   ],
   "source": [
    "array"
   ]
  },
  {
   "cell_type": "markdown",
   "id": "80883e95",
   "metadata": {},
   "source": [
    "9. Write a program to create a checkerboard pattern .Don't use default array function\n",
    "   Checkerboard pattern:  \n"
   ]
  },
  {
   "cell_type": "markdown",
   "id": "5a1b1633",
   "metadata": {},
   "source": [
    "10. Write a program to find common values between two arrays.\n",
    "    Expected Output:\n",
    "    array1: [10 20 40 60]\n",
    "    array2: [10, 30, 40,50]\n"
   ]
  },
  {
   "cell_type": "code",
   "execution_count": 66,
   "id": "344a6a4e",
   "metadata": {},
   "outputs": [
    {
     "name": "stdout",
     "output_type": "stream",
     "text": [
      "[10, 20, 50]\n"
     ]
    }
   ],
   "source": [
    "array1 = [10,20,30,40,50]\n",
    "array2 = [10,20,60,50]\n",
    "rows=[]\n",
    "cols=[]\n",
    "for x in array1:\n",
    "    if x in array2:\n",
    "        rows.append(x)\n",
    "    else:\n",
    "        cols.append(x)\n",
    "print(rows)        \n"
   ]
  },
  {
   "cell_type": "markdown",
   "id": "cb675f79",
   "metadata": {},
   "source": [
    "11.Write a program to create an array 2d array and then reshape into 1d array\n"
   ]
  },
  {
   "cell_type": "code",
   "execution_count": 69,
   "id": "1ae109d5",
   "metadata": {},
   "outputs": [],
   "source": [
    "x2 = np.arange(1,10).reshape(3,3)"
   ]
  },
  {
   "cell_type": "code",
   "execution_count": 70,
   "id": "6f1a10ff",
   "metadata": {},
   "outputs": [
    {
     "data": {
      "text/plain": [
       "array([[1, 2, 3],\n",
       "       [4, 5, 6],\n",
       "       [7, 8, 9]])"
      ]
     },
     "execution_count": 70,
     "metadata": {},
     "output_type": "execute_result"
    }
   ],
   "source": [
    "x2"
   ]
  },
  {
   "cell_type": "code",
   "execution_count": 72,
   "id": "d69a6609",
   "metadata": {},
   "outputs": [
    {
     "data": {
      "text/plain": [
       "2"
      ]
     },
     "execution_count": 72,
     "metadata": {},
     "output_type": "execute_result"
    }
   ],
   "source": [
    "np.ndim(x2)"
   ]
  },
  {
   "cell_type": "code",
   "execution_count": 77,
   "id": "a93682e2",
   "metadata": {},
   "outputs": [],
   "source": [
    "x3=x2.flatten()"
   ]
  },
  {
   "cell_type": "code",
   "execution_count": 78,
   "id": "ac340536",
   "metadata": {},
   "outputs": [
    {
     "data": {
      "text/plain": [
       "array([1, 2, 3, 4, 5, 6, 7, 8, 9])"
      ]
     },
     "execution_count": 78,
     "metadata": {},
     "output_type": "execute_result"
    }
   ],
   "source": [
    "x3"
   ]
  },
  {
   "cell_type": "markdown",
   "id": "de81c51a",
   "metadata": {},
   "source": [
    "12.Write a user defined function for creating a 1 or 2d array from scratch without using array functions\n"
   ]
  },
  {
   "cell_type": "code",
   "execution_count": null,
   "id": "d19d180d",
   "metadata": {},
   "outputs": [],
   "source": []
  }
 ],
 "metadata": {
  "kernelspec": {
   "display_name": "Python 3 (ipykernel)",
   "language": "python",
   "name": "python3"
  },
  "language_info": {
   "codemirror_mode": {
    "name": "ipython",
    "version": 3
   },
   "file_extension": ".py",
   "mimetype": "text/x-python",
   "name": "python",
   "nbconvert_exporter": "python",
   "pygments_lexer": "ipython3",
   "version": "3.11.3"
  }
 },
 "nbformat": 4,
 "nbformat_minor": 5
}
