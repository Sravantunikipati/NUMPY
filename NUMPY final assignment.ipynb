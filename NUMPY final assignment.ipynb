{
 "cells": [
  {
   "cell_type": "markdown",
   "id": "bbfab301",
   "metadata": {},
   "source": [
    "# Data set - 1"
   ]
  },
  {
   "cell_type": "code",
   "execution_count": 2,
   "id": "b6ede373",
   "metadata": {},
   "outputs": [],
   "source": [
    "import numpy as np"
   ]
  },
  {
   "cell_type": "code",
   "execution_count": 7,
   "id": "822edc16",
   "metadata": {},
   "outputs": [],
   "source": [
    "x = np.genfromtxt(r\"C:\\Users\\srava\\Downloads\\train_extended.csv\",delimiter=',',skip_header=1)"
   ]
  },
  {
   "cell_type": "code",
   "execution_count": 53,
   "id": "531e34e8",
   "metadata": {},
   "outputs": [
    {
     "data": {
      "text/plain": [
       "array([[ 1.575     ,  1.225     ,  0.375     , ...,  6.3219385 ,\n",
       "         9.63883   , 10.        ],\n",
       "       [ 1.2375    ,  1.        ,  0.375     , ...,  3.798833  ,\n",
       "         7.654365  , 19.        ],\n",
       "       [ 1.45      ,  1.1625    ,  0.4125    , ...,  7.01650125,\n",
       "         7.257472  , 11.        ],\n",
       "       ...,\n",
       "       [ 1.125     ,  0.9125    ,  0.2875    , ...,  1.984465  ,\n",
       "         3.118445  ,  7.        ],\n",
       "       [ 1.625     ,  1.275     ,  0.4125    , ...,  7.86698625,\n",
       "        10.489315  , 11.        ],\n",
       "       [ 1.5875    ,  1.25      ,  0.3875    , ...,  7.38504475,\n",
       "         8.788345  , 11.        ]])"
      ]
     },
     "execution_count": 53,
     "metadata": {},
     "output_type": "execute_result"
    }
   ],
   "source": [
    "x"
   ]
  },
  {
   "cell_type": "markdown",
   "id": "4dc21468",
   "metadata": {},
   "source": [
    "## 1.What is the minimum and maximum length"
   ]
  },
  {
   "cell_type": "code",
   "execution_count": 54,
   "id": "a2d6d46c",
   "metadata": {},
   "outputs": [
    {
     "name": "stdout",
     "output_type": "stream",
     "text": [
      "min_len = 0.0\n",
      "max_len = 7.58349125\n"
     ]
    }
   ],
   "source": [
    "min_len = np.min(x[:,0])\n",
    "max_len = np.max(x[:,0])\n",
    "print('min_len = {}'.format(min_len))\n",
    "print('max_len = {}'.format(max_len))"
   ]
  },
  {
   "cell_type": "markdown",
   "id": "79b0b4f9",
   "metadata": {},
   "source": [
    "## 2.Difference between maximum and minimum length."
   ]
  },
  {
   "cell_type": "code",
   "execution_count": 55,
   "id": "4ab8d05a",
   "metadata": {},
   "outputs": [],
   "source": [
    "def diff_max_min(x):\n",
    "    return (np.max(x))-(np.min(x))"
   ]
  },
  {
   "cell_type": "code",
   "execution_count": 59,
   "id": "3a8cdefa",
   "metadata": {},
   "outputs": [],
   "source": [
    "y = np.apply_along_axis(diff_max_min,0,x)"
   ]
  },
  {
   "cell_type": "code",
   "execution_count": 60,
   "id": "f5cae1c8",
   "metadata": {},
   "outputs": [
    {
     "data": {
      "text/plain": [
       "array([ 7.58349125,  2.25      ,  2.825     , 80.07316275, 45.25997675,\n",
       "       26.1098895 , 36.9960975 , 28.        ])"
      ]
     },
     "execution_count": 60,
     "metadata": {},
     "output_type": "execute_result"
    }
   ],
   "source": [
    "y"
   ]
  },
  {
   "cell_type": "code",
   "execution_count": 61,
   "id": "8be9bacc",
   "metadata": {},
   "outputs": [
    {
     "data": {
      "text/plain": [
       "7.58349125"
      ]
     },
     "execution_count": 61,
     "metadata": {},
     "output_type": "execute_result"
    }
   ],
   "source": [
    "y[0]\n",
    "#This is the length column"
   ]
  },
  {
   "cell_type": "markdown",
   "id": "9ccf4d71",
   "metadata": {},
   "source": [
    "## 3.Find column wise average"
   ]
  },
  {
   "cell_type": "code",
   "execution_count": 62,
   "id": "e89feaa2",
   "metadata": {},
   "outputs": [],
   "source": [
    "def avg(x):\n",
    "    return np.mean(x)"
   ]
  },
  {
   "cell_type": "code",
   "execution_count": 63,
   "id": "cfe9e3e4",
   "metadata": {},
   "outputs": [
    {
     "data": {
      "text/plain": [
       "array([ 1.31244808,  1.02032036,  0.34602787, 23.12343631,  9.98937025,\n",
       "        4.99318096,  6.63422915,  9.950615  ])"
      ]
     },
     "execution_count": 63,
     "metadata": {},
     "output_type": "execute_result"
    }
   ],
   "source": [
    "np.apply_along_axis(avg,0,x)"
   ]
  },
  {
   "cell_type": "markdown",
   "id": "ea2d0c05",
   "metadata": {},
   "source": [
    "## 4.Find out all the ages whose height is greater than 0.4"
   ]
  },
  {
   "cell_type": "code",
   "execution_count": 64,
   "id": "2a498aa3",
   "metadata": {},
   "outputs": [],
   "source": [
    "height = x[x[:,2]>0.4]"
   ]
  },
  {
   "cell_type": "code",
   "execution_count": 66,
   "id": "d2bb3a70",
   "metadata": {},
   "outputs": [
    {
     "data": {
      "text/plain": [
       "55336"
      ]
     },
     "execution_count": 66,
     "metadata": {},
     "output_type": "execute_result"
    }
   ],
   "source": [
    "len(height)"
   ]
  },
  {
   "cell_type": "code",
   "execution_count": 74,
   "id": "6f123e93",
   "metadata": {},
   "outputs": [],
   "source": [
    "def total_ages(heights,ages):\n",
    "    heights = x[:,2]\n",
    "    ages = x[:,7]\n",
    "    ages_fltrd = ages[heights>0.4]\n",
    "    return ages_fltrd"
   ]
  },
  {
   "cell_type": "code",
   "execution_count": 76,
   "id": "8e76731b",
   "metadata": {},
   "outputs": [
    {
     "data": {
      "text/plain": [
       "array([11., 14., 13., ..., 11., 11., 11.])"
      ]
     },
     "execution_count": 76,
     "metadata": {},
     "output_type": "execute_result"
    }
   ],
   "source": [
    "total_ages(x,y)"
   ]
  },
  {
   "cell_type": "markdown",
   "id": "79ace251",
   "metadata": {},
   "source": [
    "## 5.What is the average height and weight of the persons whose age is greater than 10 ?"
   ]
  },
  {
   "cell_type": "code",
   "execution_count": 106,
   "id": "800ce46d",
   "metadata": {},
   "outputs": [
    {
     "name": "stdout",
     "output_type": "stream",
     "text": [
      "average heights whose age is = 10 : 0.3833672856539947\n",
      "average weights whose age is = 10 : 28.243308450511314\n"
     ]
    }
   ],
   "source": [
    "\n",
    "heights = x[:,2]\n",
    "weights = x[:,3]\n",
    "ages=x[:,7]\n",
    "avg_heights = np.mean(heights[ages==10])\n",
    "avg_weights= np.mean(weights[ages==10])\n",
    "    \n",
    "print('average heights whose age is = 10 : {}'.format(avg_heights))\n",
    "print('average weights whose age is = 10 : {}'.format(avg_weights))"
   ]
  },
  {
   "cell_type": "markdown",
   "id": "066f4d41",
   "metadata": {},
   "source": [
    "## 6.What is the total shell weight ? "
   ]
  },
  {
   "cell_type": "code",
   "execution_count": 118,
   "id": "20a35200",
   "metadata": {},
   "outputs": [],
   "source": [
    "total_shell_weight = np.sum(x[:,6])"
   ]
  },
  {
   "cell_type": "code",
   "execution_count": 119,
   "id": "cbc52c53",
   "metadata": {},
   "outputs": [
    {
     "data": {
      "text/plain": [
       "1326845.8295214002"
      ]
     },
     "execution_count": 119,
     "metadata": {},
     "output_type": "execute_result"
    }
   ],
   "source": [
    "total_shell_weight"
   ]
  },
  {
   "cell_type": "markdown",
   "id": "d7618705",
   "metadata": {},
   "source": [
    "## 7.How many persons belong to each and every unique age ?"
   ]
  },
  {
   "cell_type": "code",
   "execution_count": 122,
   "id": "f62892ae",
   "metadata": {},
   "outputs": [
    {
     "data": {
      "text/plain": [
       "(array([ 1.,  2.,  3.,  4.,  5.,  6.,  7.,  8.,  9., 10., 11., 12., 13.,\n",
       "        14., 15., 16., 17., 18., 19., 20., 21., 22., 23., 24., 25., 26.,\n",
       "        27., 29.]),\n",
       " array([   46,    42,   625,  2787,  5475, 12450, 18276, 26818, 32906,\n",
       "        30803, 23457, 12717, 10037,  6352,  4831,  3191,  2705,  1953,\n",
       "         1591,  1206,   721,   296,   352,   110,    51,    46,    99,\n",
       "           57], dtype=int64))"
      ]
     },
     "execution_count": 122,
     "metadata": {},
     "output_type": "execute_result"
    }
   ],
   "source": [
    "np.unique(x[:,7],return_counts=True)"
   ]
  },
  {
   "cell_type": "markdown",
   "id": "142c1754",
   "metadata": {},
   "source": [
    "## 8.What is the difference between shucked weight and viceversa weight ?"
   ]
  },
  {
   "cell_type": "code",
   "execution_count": 125,
   "id": "c62f62e2",
   "metadata": {},
   "outputs": [],
   "source": [
    "diff_btwn = x[:,4]-x[:,5]"
   ]
  },
  {
   "cell_type": "code",
   "execution_count": 126,
   "id": "2b4bf355",
   "metadata": {},
   "outputs": [
    {
     "data": {
      "text/plain": [
       "array([5.9817445, 3.855532 , 4.1106775, ..., 2.9199985, 5.329706 ,\n",
       "       9.8372765])"
      ]
     },
     "execution_count": 126,
     "metadata": {},
     "output_type": "execute_result"
    }
   ],
   "source": [
    "diff_btwn"
   ]
  },
  {
   "cell_type": "markdown",
   "id": "79879cac",
   "metadata": {},
   "source": [
    "## 9.What is average height of the persons whose age is between 14 and 19"
   ]
  },
  {
   "cell_type": "code",
   "execution_count": 136,
   "id": "3138f678",
   "metadata": {},
   "outputs": [
    {
     "data": {
      "text/plain": [
       "0.41489902051107985"
      ]
     },
     "execution_count": 136,
     "metadata": {},
     "output_type": "execute_result"
    }
   ],
   "source": [
    "height = x[:,2]\n",
    "age = x[:,7]\n",
    "filtered_ages = (age>=14)&(age<=19)\n",
    "np.mean(height[filtered_ages])\n"
   ]
  },
  {
   "cell_type": "markdown",
   "id": "59ec247f",
   "metadata": {},
   "source": [
    "## 10.What is the average weight if we include shucked weight and viscera weight and shell weight ?"
   ]
  },
  {
   "cell_type": "code",
   "execution_count": 140,
   "id": "4c495671",
   "metadata": {},
   "outputs": [
    {
     "name": "stdout",
     "output_type": "stream",
     "text": [
      "average_weight =  21.616780352404746\n"
     ]
    }
   ],
   "source": [
    "average_weight = x[:,4]+x[:,5]+x[:,6]\n",
    "print(\"average_weight = \",np.mean(average_weight)) "
   ]
  },
  {
   "cell_type": "code",
   "execution_count": null,
   "id": "8099b31b",
   "metadata": {},
   "outputs": [],
   "source": []
  },
  {
   "cell_type": "markdown",
   "id": "7eef2b95",
   "metadata": {},
   "source": [
    "# Data set - 2"
   ]
  },
  {
   "cell_type": "code",
   "execution_count": 143,
   "id": "a9c70a9b",
   "metadata": {},
   "outputs": [
    {
     "name": "stdout",
     "output_type": "stream",
     "text": [
      "0 = index , 1 = total_bill , 2 = tip , 3 = sex , 4 = smoker , 5 = day , 6 = time , 7 = size\n"
     ]
    }
   ],
   "source": [
    "print(\"0 = index , 1 = total_bill , 2 = tip , 3 = sex , 4 = smoker , 5 = day , 6 = time , 7 = size\")\n",
    "y = np.genfromtxt(r\"C:\\Users\\srava\\Downloads\\tipsf (1).csv\",delimiter=',',skip_header=1)"
   ]
  },
  {
   "cell_type": "code",
   "execution_count": 144,
   "id": "fe79dbb8",
   "metadata": {},
   "outputs": [
    {
     "data": {
      "text/plain": [
       "array([[  0.  ,  16.99,   1.01, ...,   1.  ,   0.  ,   2.  ],\n",
       "       [  1.  ,  10.34,   1.66, ...,   1.  ,   0.  ,   3.  ],\n",
       "       [  2.  ,  21.01,   3.5 , ...,   1.  ,   0.  ,   3.  ],\n",
       "       ...,\n",
       "       [241.  ,  22.67,   2.  , ...,   0.  ,   0.  ,   2.  ],\n",
       "       [242.  ,  17.82,   1.75, ...,   0.  ,   0.  ,   2.  ],\n",
       "       [243.  ,  18.78,   3.  , ...,   2.  ,   0.  ,   2.  ]])"
      ]
     },
     "execution_count": 144,
     "metadata": {},
     "output_type": "execute_result"
    }
   ],
   "source": [
    "y"
   ]
  },
  {
   "cell_type": "markdown",
   "id": "d0ddd9f2",
   "metadata": {},
   "source": [
    "## 1.What is the total bill value ?"
   ]
  },
  {
   "cell_type": "code",
   "execution_count": 146,
   "id": "1bfc2c8d",
   "metadata": {},
   "outputs": [],
   "source": [
    "total_bill = np.sum(y[:,1])"
   ]
  },
  {
   "cell_type": "code",
   "execution_count": 147,
   "id": "82690bfc",
   "metadata": {},
   "outputs": [
    {
     "data": {
      "text/plain": [
       "4827.77"
      ]
     },
     "execution_count": 147,
     "metadata": {},
     "output_type": "execute_result"
    }
   ],
   "source": [
    "total_bill"
   ]
  },
  {
   "cell_type": "markdown",
   "id": "3c228fbe",
   "metadata": {},
   "source": [
    "## 2.What is the total tip value ?"
   ]
  },
  {
   "cell_type": "code",
   "execution_count": 148,
   "id": "3b66b7a5",
   "metadata": {},
   "outputs": [],
   "source": [
    "total_tip = np.sum(y[:,2])"
   ]
  },
  {
   "cell_type": "code",
   "execution_count": 149,
   "id": "b5c3749b",
   "metadata": {},
   "outputs": [
    {
     "data": {
      "text/plain": [
       "731.5799999999999"
      ]
     },
     "execution_count": 149,
     "metadata": {},
     "output_type": "execute_result"
    }
   ],
   "source": [
    "total_tip"
   ]
  },
  {
   "cell_type": "markdown",
   "id": "11b8782d",
   "metadata": {},
   "source": [
    "## 3.Count how many sunday,saturday,thursdays,fridays are there"
   ]
  },
  {
   "cell_type": "code",
   "execution_count": 150,
   "id": "e4107e7a",
   "metadata": {},
   "outputs": [
    {
     "data": {
      "text/plain": [
       "(array([0., 1., 2., 3.]), array([87, 76, 62, 19], dtype=int64))"
      ]
     },
     "execution_count": 150,
     "metadata": {},
     "output_type": "execute_result"
    }
   ],
   "source": [
    "np.unique(y[:,5],return_counts=True)"
   ]
  },
  {
   "cell_type": "markdown",
   "id": "4743e398",
   "metadata": {},
   "source": [
    "## 4.How many smokers are there"
   ]
  },
  {
   "cell_type": "code",
   "execution_count": 175,
   "id": "669f623c",
   "metadata": {},
   "outputs": [],
   "source": [
    "# smokers == 0\n",
    "# non_smokers == 1\n",
    "def smokers(y):\n",
    "    smokers_count=0\n",
    "    non_smokers_count =0\n",
    "    for x in y[:,4]:\n",
    "        if x==1:\n",
    "            smokers_count+=1\n",
    "        else:\n",
    "            non_smokers_count+=1\n",
    "    return smokers_count\n",
    "           \n",
    "    "
   ]
  },
  {
   "cell_type": "code",
   "execution_count": 176,
   "id": "7a19d349",
   "metadata": {},
   "outputs": [
    {
     "data": {
      "text/plain": [
       "93"
      ]
     },
     "execution_count": 176,
     "metadata": {},
     "output_type": "execute_result"
    }
   ],
   "source": [
    "smokers(y)"
   ]
  },
  {
   "cell_type": "markdown",
   "id": "535274ed",
   "metadata": {},
   "source": [
    "## 5.What is the avg tip given by male and female ?"
   ]
  },
  {
   "cell_type": "code",
   "execution_count": 202,
   "id": "103e2f4b",
   "metadata": {},
   "outputs": [
    {
     "name": "stdout",
     "output_type": "stream",
     "text": [
      "Average_tip_of_male =  3.0896178343949043\n",
      "Average_tip_of_female =  2.8334482758620685\n"
     ]
    }
   ],
   "source": [
    "# male = 1\n",
    "# female = 0\n",
    "\n",
    "male = y[y[:,3]==1]\n",
    "female = y[y[:,3]==0]\n",
    "print('Average_tip_of_male = ',np.mean(male[:,2]))\n",
    "print('Average_tip_of_female = ',np.mean(female[:,2]))\n",
    "        "
   ]
  },
  {
   "cell_type": "markdown",
   "id": "690dc452",
   "metadata": {},
   "source": [
    "## 6.How much amount have been spent by male and female?"
   ]
  },
  {
   "cell_type": "code",
   "execution_count": 203,
   "id": "f6fe5cc2",
   "metadata": {},
   "outputs": [
    {
     "name": "stdout",
     "output_type": "stream",
     "text": [
      "Amount spent by male =  3256.8199999999997\n",
      "Amount spent by female =  1570.9499999999996\n"
     ]
    }
   ],
   "source": [
    "print(\"Amount spent by male = \",np.sum(male[:,1]))\n",
    "print(\"Amount spent by female = \",np.sum(female[:,1]))"
   ]
  },
  {
   "cell_type": "markdown",
   "id": "11a8ddd8",
   "metadata": {},
   "source": [
    "## 7.What is the min and max tip given ?"
   ]
  },
  {
   "cell_type": "code",
   "execution_count": 206,
   "id": "ee3d4004",
   "metadata": {},
   "outputs": [
    {
     "name": "stdout",
     "output_type": "stream",
     "text": [
      "Maximum tip =  10.0\n",
      "Minimum tip =  1.0\n"
     ]
    }
   ],
   "source": [
    "max_tip = np.max(y[:,2])\n",
    "min_tip = np.min(y[:,2])\n",
    "print('Maximum tip = ',max_tip)\n",
    "print('Minimum tip = ',min_tip)"
   ]
  },
  {
   "cell_type": "markdown",
   "id": "4eb16313",
   "metadata": {},
   "source": [
    "## 8.How many male and females are going for lunch and dinner"
   ]
  },
  {
   "cell_type": "code",
   "execution_count": null,
   "id": "2e20f021",
   "metadata": {},
   "outputs": [],
   "source": []
  },
  {
   "cell_type": "markdown",
   "id": "7e574f09",
   "metadata": {},
   "source": [
    "## 9.Find out the avg size"
   ]
  },
  {
   "cell_type": "code",
   "execution_count": 207,
   "id": "f884de80",
   "metadata": {},
   "outputs": [
    {
     "name": "stdout",
     "output_type": "stream",
     "text": [
      "Average size =  2.569672131147541\n"
     ]
    }
   ],
   "source": [
    "avg_size = np.mean(y[:,7])\n",
    "print('Average size = ',avg_size)"
   ]
  },
  {
   "cell_type": "markdown",
   "id": "169f4b47",
   "metadata": {},
   "source": [
    "## 10.How many female smokers are there and males are there ?"
   ]
  },
  {
   "cell_type": "code",
   "execution_count": 238,
   "id": "4ce61bf0",
   "metadata": {},
   "outputs": [],
   "source": [
    "male_smokers = len(male[male[:,4]==1])\n",
    "Female_smokers = len(female[female[:,4]==1])"
   ]
  },
  {
   "cell_type": "code",
   "execution_count": 236,
   "id": "a11ef3e6",
   "metadata": {},
   "outputs": [
    {
     "name": "stdout",
     "output_type": "stream",
     "text": [
      "Male_smokers =  60\n",
      "Female_smokers =  33\n"
     ]
    }
   ],
   "source": [
    "print('Male_smokers = ',male_smokers)\n",
    "print('Female_smokers = ',Female_smokers)"
   ]
  },
  {
   "cell_type": "code",
   "execution_count": null,
   "id": "2a6478d6",
   "metadata": {},
   "outputs": [],
   "source": []
  }
 ],
 "metadata": {
  "kernelspec": {
   "display_name": "Python 3 (ipykernel)",
   "language": "python",
   "name": "python3"
  },
  "language_info": {
   "codemirror_mode": {
    "name": "ipython",
    "version": 3
   },
   "file_extension": ".py",
   "mimetype": "text/x-python",
   "name": "python",
   "nbconvert_exporter": "python",
   "pygments_lexer": "ipython3",
   "version": "3.11.3"
  }
 },
 "nbformat": 4,
 "nbformat_minor": 5
}
